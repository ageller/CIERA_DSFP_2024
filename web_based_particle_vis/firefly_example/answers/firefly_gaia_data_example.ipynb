{
 "cells": [
  {
   "cell_type": "markdown",
   "id": "0ea7bcf5-2a0f-4f16-a2a5-d628d7b159f7",
   "metadata": {},
   "source": [
    "# Aaron's (minimal) example of using Firefly with Gaia data\n"
   ]
  },
  {
   "cell_type": "markdown",
   "id": "b73418a7",
   "metadata": {},
   "source": [
    "## Download the Gaia data "
   ]
  },
  {
   "cell_type": "code",
   "execution_count": 102,
   "id": "0bb698e7-3808-42d8-976e-571c7d383849",
   "metadata": {},
   "outputs": [],
   "source": [
    "import numpy as np\n",
    "from scipy.signal import find_peaks\n",
    "\n",
    "from astroquery.gaia import Gaia\n",
    "\n",
    "from astropy import units as u\n",
    "from astropy.coordinates import SkyCoord\n",
    "from astropy.table import Table\n",
    "\n",
    "import matplotlib.pyplot as plt\n",
    "%matplotlib inline"
   ]
  },
  {
   "cell_type": "markdown",
   "id": "57f46c00",
   "metadata": {},
   "source": [
    "Retrieve all the available data in the region of interest.\n",
    "\n",
    "I will download data in the direction of the open cluster M67 (coordinates: RA = 132.825 deg, +11.8167) with a search radius of 1 degrees.\n",
    "\n",
    "I will perform an asynchronous query (asynchronous rather than synchronous queries should be performed when retrieving more than 2000 rows), and also require that the parallax and proper motion data to be well behaved (to remove likely spurious data).\n",
    "\n",
    "Note: The query to the archive is with ADQL (Astronomical Data Query Language). For a description of ADQL and more examples see the Gaia DR1 ADQL cookbook: https://gaia.ac.uk/data/gaia-data-release-1/adql-cookbook"
   ]
  },
  {
   "cell_type": "code",
   "execution_count": null,
   "id": "0ac428d3-34a1-4acb-806b-fe4249e3f937",
   "metadata": {},
   "outputs": [],
   "source": [
    "cmd = \"SELECT * FROM gaiadr3.gaia_source \\\n",
    "    WHERE CONTAINS(POINT('ICRS',gaiadr3.gaia_source.ra, gaiadr3.gaia_source.dec),\\\n",
    "    CIRCLE('ICRS', 132.825, 11.8167, 1))=1\\\n",
    "    AND parallax>0 \\\n",
    "    AND abs(pmra_error)<5 \\\n",
    "    AND abs(pmdec_error)<5 \\\n",
    "    AND pmra IS NOT NULL AND abs(pmra)>0 \\\n",
    "    AND pmdec IS NOT NULL AND abs(pmdec)>0;\"\n",
    "\n",
    "job = Gaia.launch_job_async(cmd, dump_to_file=False) #could save this to a file\n",
    "\n",
    "print (job)"
   ]
  },
  {
   "cell_type": "markdown",
   "id": "4da263ba",
   "metadata": {},
   "source": [
    "This downloads as an astropy table.  Save this to an [ecsv](https://docs.astropy.org/en/stable/io/ascii/ecsv.html) file (to retain the units and masks).  That way I can reuse this data later without having to download from Gaia"
   ]
  },
  {
   "cell_type": "code",
   "execution_count": 24,
   "id": "044e5453",
   "metadata": {},
   "outputs": [],
   "source": [
    "tab = job.get_results()\n",
    "tab.write('Gaia_m67.ecsv', overwrite=True)"
   ]
  },
  {
   "cell_type": "code",
   "execution_count": 17,
   "id": "f3e698a1",
   "metadata": {},
   "outputs": [],
   "source": [
    "# to read the data back in\n",
    "# tab = Table.read('Gaia_m67.ecsv')"
   ]
  },
  {
   "cell_type": "markdown",
   "id": "c36faab0",
   "metadata": {},
   "source": [
    "Calculate 3D coordinates"
   ]
  },
  {
   "cell_type": "code",
   "execution_count": null,
   "id": "981b8937",
   "metadata": {},
   "outputs": [],
   "source": [
    "coords_3d = SkyCoord(\n",
    "    ra=tab['ra'], \n",
    "    dec=tab['dec'],\n",
    "    distance=Distance(parallax=tab['parallax'].filled(np.nan))\n",
    ")\n",
    "coords_3d.cartesian"
   ]
  },
  {
   "cell_type": "markdown",
   "id": "bb628f34",
   "metadata": {},
   "source": [
    "Do the same for the expected cluster center (from literature/internet)"
   ]
  },
  {
   "cell_type": "code",
   "execution_count": 55,
   "id": "bd2b6818",
   "metadata": {},
   "outputs": [],
   "source": [
    "coords_3d_center = SkyCoord(\n",
    "    ra=132.825*u.deg, \n",
    "    dec=11.8167*u.deg,\n",
    "    distance=900*u.parsec\n",
    ")"
   ]
  },
  {
   "cell_type": "markdown",
   "id": "3644e75d",
   "metadata": {},
   "source": [
    "I prefer pandas (and so does Firefly), though note that this will remove the units.  Let's also simply things to only continue with the columns we're interested in."
   ]
  },
  {
   "cell_type": "code",
   "execution_count": null,
   "id": "f9ccfa31",
   "metadata": {},
   "outputs": [],
   "source": [
    "# look at all the column names\n",
    "list(tab.columns)"
   ]
  },
  {
   "cell_type": "code",
   "execution_count": null,
   "id": "34c9dee1",
   "metadata": {},
   "outputs": [],
   "source": [
    "cols = [\n",
    "    'SOURCE_ID',\n",
    "    'ra',\n",
    "    'dec',\n",
    "    'parallax',\n",
    "    'pmra',\n",
    "    'pmdec',\n",
    "    'radial_velocity',\n",
    "    'phot_g_mean_mag',\n",
    "    'bp_rp',\n",
    "    'ruwe',\n",
    "    'teff_gspphot'\n",
    "]\n",
    "df = tab[cols].to_pandas()\n",
    "\n",
    "# add the 3D coordinates but center them on the expected cluster center\n",
    "df['x'] = coords_3d.cartesian.x - coords_3d_center.cartesian.x\n",
    "df['y'] = coords_3d.cartesian.y - coords_3d_center.cartesian.y\n",
    "df['z'] = coords_3d.cartesian.z - coords_3d_center.cartesian.z\n",
    "\n",
    "df"
   ]
  },
  {
   "cell_type": "markdown",
   "id": "3dad0be0",
   "metadata": {},
   "source": [
    "Possibly make a selection so that we have an additional group of only members.  (This is a rather crude estimate.)"
   ]
  },
  {
   "cell_type": "code",
   "execution_count": 134,
   "id": "4dfa6780",
   "metadata": {},
   "outputs": [],
   "source": [
    "def find_gaia_peak(arr, bins=100, range=[-20,20], return_plot = False):\n",
    "\n",
    "    # calculate the histogram and find the most prominent peak (using scipy)\n",
    "    heights, bin_edges = np.histogram(arr, bins=bins, range=range)\n",
    "    bin_centers = bin_edges[:-1] + np.diff(bin_edges)\n",
    "    pk,dct = find_peaks(heights, prominence=(None,None))\n",
    "    pk = pk[dct['prominences'].argsort()[::-1]]\n",
    "\n",
    "    peak = bin_centers[pk[0]]\n",
    "    out = {'peak':peak}\n",
    "\n",
    "    if (return_plot):\n",
    "        f, ax = plt.subplots()\n",
    "        ax.step(bin_centers, heights, where='mid', color='black')\n",
    "        ax.axvline(peak, color='firebrick')\n",
    "        out['f'] = f\n",
    "        out['ax'] = ax\n",
    "    \n",
    "    return out"
   ]
  },
  {
   "cell_type": "code",
   "execution_count": null,
   "id": "92d566c6",
   "metadata": {},
   "outputs": [],
   "source": [
    "dct = find_gaia_peak(df['pmdec'], bins=100, range=[-20,20], return_plot = True)\n",
    "dct['peak']"
   ]
  },
  {
   "cell_type": "code",
   "execution_count": null,
   "id": "e1c619c7",
   "metadata": {},
   "outputs": [],
   "source": [
    "# I just used a guess-and-check method to settle on the numbers here\n",
    "members = df.loc[\n",
    "    (abs(df['parallax'] - find_gaia_peak(df['parallax'], bins=100, range=[0,5])['peak']) < 5) & \n",
    "    (abs(df['pmra'] - find_gaia_peak(df['pmra'], bins=100, range=[-20,20])['peak']) < 0.25) &\n",
    "    (abs(df['pmdec'] - find_gaia_peak(df['pmdec'], bins=100, range=[-20,20])['peak']) < 0.25)\n",
    "]\n",
    "members"
   ]
  },
  {
   "cell_type": "code",
   "execution_count": null,
   "id": "ef97a0b8",
   "metadata": {},
   "outputs": [],
   "source": [
    "# check the CMD\n",
    "f, ax = plt.subplots()\n",
    "ax.scatter(df['bp_rp'],df['phot_g_mean_mag'], s=1, color='gray')\n",
    "ax.scatter(members['bp_rp'],members['phot_g_mean_mag'], s=1, color='firebrick')\n",
    "\n",
    "plt.gca().invert_yaxis()"
   ]
  },
  {
   "cell_type": "markdown",
   "id": "34ecbc6c-a09f-4017-9c0e-5768cd91276a",
   "metadata": {},
   "source": [
    "## Format Data for Firefly"
   ]
  },
  {
   "cell_type": "code",
   "execution_count": 158,
   "id": "aa57cce0",
   "metadata": {},
   "outputs": [],
   "source": [
    "coords_all = df[['x','y','z']].to_numpy()\n",
    "coords_members = members[['x','y','z']].to_numpy()\n",
    "coords = [coords_all, coords_members]"
   ]
  },
  {
   "cell_type": "code",
   "execution_count": 159,
   "id": "891be9e4",
   "metadata": {},
   "outputs": [],
   "source": [
    "field_names = ['SOURCE_ID','parallax','pmra','pmdec','radial_velocity','phot_g_mean_mag','bp_rp','teff_gspphot','ruwe']\n",
    "fields_all = np.nan_to_num(df[field_names], nan=-999)\n",
    "fields_members = np.nan_to_num(members[field_names], nan=-999)\n",
    "fields = [fields_all, fields_members]"
   ]
  },
  {
   "cell_type": "markdown",
   "id": "fd67a451",
   "metadata": {},
   "source": [
    "Here are the [docs for ArrayReader](https://firefly.rcs.northwestern.edu/docs/reference/api/readers/firefly.data_reader.ArrayReader.html)."
   ]
  },
  {
   "cell_type": "code",
   "execution_count": 60,
   "id": "2154b107-f405-443c-b607-737c78e37dfb",
   "metadata": {},
   "outputs": [],
   "source": [
    "from firefly.data_reader import ArrayReader"
   ]
  },
  {
   "cell_type": "code",
   "execution_count": null,
   "id": "1a24861c-00af-4aa5-9c4c-41f439d65c1a",
   "metadata": {},
   "outputs": [],
   "source": [
    "my_arrayReader = ArrayReader(\n",
    "    coords,\n",
    "    fields=fields,\n",
    "    field_names=field_names,\n",
    "    UInames=['all','members'],\n",
    "    write_to_disk=False)"
   ]
  },
  {
   "cell_type": "markdown",
   "id": "dabdb04f-71ad-4b1c-9c73-211300a75fef",
   "metadata": {},
   "source": [
    "## Display Inline"
   ]
  },
  {
   "cell_type": "code",
   "execution_count": 50,
   "id": "cf3fd1b8-f568-4558-b8f3-4c6751d4f32b",
   "metadata": {},
   "outputs": [],
   "source": [
    "from firefly.server import spawnFireflyServer,quitAllFireflyServers"
   ]
  },
  {
   "cell_type": "code",
   "execution_count": 51,
   "id": "9b1f007c",
   "metadata": {},
   "outputs": [],
   "source": [
    "# define the local port (typically anything in 5000 - 8000 range)\n",
    "port = 5500"
   ]
  },
  {
   "cell_type": "code",
   "execution_count": null,
   "id": "6e2fa016-019c-482a-a039-114816ecee37",
   "metadata": {},
   "outputs": [],
   "source": [
    "process = spawnFireflyServer(port, method = 'flask')"
   ]
  },
  {
   "cell_type": "code",
   "execution_count": null,
   "id": "0493ceed-85af-4e50-a6b4-95801a4e37ec",
   "metadata": {},
   "outputs": [],
   "source": [
    "from IPython.display import IFrame\n",
    "url = f'http://localhost:{port:d}/combined'\n",
    "IFrame(url, width=1000, height=500)"
   ]
  },
  {
   "cell_type": "code",
   "execution_count": null,
   "id": "2261db30-3211-482a-adbc-a3f2983199fd",
   "metadata": {
    "tags": []
   },
   "outputs": [],
   "source": [
    "# Send data to the server.\n",
    "# Wait until it loads to run this command\n",
    "my_arrayReader.sendDataViaFlask()"
   ]
  },
  {
   "cell_type": "markdown",
   "id": "58b2b46c",
   "metadata": {},
   "source": [
    "## Get the selected data in Python\n",
    "\n",
    "(after using the selection tool)"
   ]
  },
  {
   "cell_type": "code",
   "execution_count": 10,
   "id": "de937d06",
   "metadata": {},
   "outputs": [],
   "source": [
    "import requests\n",
    "\n",
    "import matplotlib.pyplot as plt\n",
    "%matplotlib inline"
   ]
  },
  {
   "cell_type": "code",
   "execution_count": null,
   "id": "d0883299",
   "metadata": {},
   "outputs": [],
   "source": [
    "# send a get request to receive the current settings from Firefly\n",
    "# for larger amounts of data, you will need to increase the waitTime (in seconds) via params (see below; the default is 10s)\n",
    "r = requests.get(url = f'http://localhost:{port:d}/get_selected_data', params = {'waitTime':60})\n",
    "if r.status_code == 200:\n",
    "    # success\n",
    "    selection = r.json()\n",
    "    # as a check\n",
    "    partsKeys = list(selection.keys())\n",
    "    print(partsKeys[0])\n",
    "    print(selection[partsKeys[0]]['Coordinates_flat'][:100]) \n",
    "else:\n",
    "    print('Error: {}'.format(r.status_code), r.content)\n"
   ]
  },
  {
   "cell_type": "code",
   "execution_count": null,
   "id": "20a253b3",
   "metadata": {},
   "outputs": [],
   "source": [
    "# plot x, y for the selected points\n",
    "partsKeys = list(selection.keys())\n",
    "part0 = selection[partsKeys[0]]\n",
    "\n",
    "# UPDATE THIS\n",
    "x = part0['Coordinates_flat'][0::3]\n",
    "y = part0['Coordinates_flat'][1::3]\n",
    "\n",
    "f, ax = plt.subplots()\n",
    "ax.scatter(x[:1000],y[:1000])"
   ]
  },
  {
   "cell_type": "markdown",
   "id": "e7a2716d",
   "metadata": {},
   "source": [
    "### Quit the Firefly server\n",
    "\n",
    "... this doesn't always work in a notebook ... you can also quit the server by resetting the kernel."
   ]
  },
  {
   "cell_type": "code",
   "execution_count": null,
   "id": "83c11899-5ca2-4a58-91e1-6818988f3603",
   "metadata": {},
   "outputs": [],
   "source": [
    "return_code = quitAllFireflyServers()"
   ]
  },
  {
   "cell_type": "code",
   "execution_count": null,
   "id": "d04aaa5d",
   "metadata": {},
   "outputs": [],
   "source": []
  }
 ],
 "metadata": {
  "kernelspec": {
   "display_name": "Python 3",
   "language": "python",
   "name": "python3"
  },
  "language_info": {
   "codemirror_mode": {
    "name": "ipython",
    "version": 3
   },
   "file_extension": ".py",
   "mimetype": "text/x-python",
   "name": "python",
   "nbconvert_exporter": "python",
   "pygments_lexer": "ipython3",
   "version": "3.11.10"
  }
 },
 "nbformat": 4,
 "nbformat_minor": 5
}
